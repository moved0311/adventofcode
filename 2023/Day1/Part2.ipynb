{
 "cells": [
  {
   "cell_type": "code",
   "execution_count": null,
   "id": "surrounded-debut",
   "metadata": {},
   "outputs": [],
   "source": [
    "import re"
   ]
  },
  {
   "cell_type": "code",
   "execution_count": null,
   "id": "exclusive-illinois",
   "metadata": {
    "scrolled": true
   },
   "outputs": [],
   "source": [
    "spelled = ['one', 'two', 'three', 'four', 'five', 'six', 'seven', 'eight', 'nine']\n",
    "\n",
    "def replaceSpellToDigital(line):\n",
    "    length = len(line)\n",
    "    isCheckLeft = True\n",
    "    isCheckRight = True\n",
    "    \n",
    "    for i in range(length):\n",
    "        for index, word in enumerate(spelled):\n",
    "            leftSub = line[0:i]\n",
    "            rightSub = line[-1-i:]\n",
    "            \n",
    "            if(re.search(\"\\d\", leftSub)):\n",
    "                isCheckLeft = False\n",
    "            if(re.search(\"\\d\", rightSub)):\n",
    "                isCheckRight = False\n",
    "                \n",
    "            if(isCheckLeft and word in leftSub):\n",
    "                line = line.replace(word, str(index+1), 1)\n",
    "                isCheckLeft = False\n",
    "                \n",
    "            if(isCheckRight and word in rightSub):\n",
    "                line = line[::-1].replace(word[::-1], str(index+1), 1)[::-1]\n",
    "                isCheckRight = False\n",
    "                \n",
    "        if(not isCheckLeft and not isCheckRight):\n",
    "            break;\n",
    "\n",
    "    return line\n",
    "\n",
    "with open('input') as file:\n",
    "    lines = file.read().strip().split('\\n')\n",
    "    result = 0\n",
    "    for line in lines:\n",
    "        digitalLine = replaceSpellToDigital(line)\n",
    "        \n",
    "        # part1 ans\n",
    "        nums = [c for c in digitalLine if c.isdigit()]\n",
    "        result += int(nums[0]+nums[-1])\n",
    "\n",
    "    print(result)"
   ]
  }
 ],
 "metadata": {
  "kernelspec": {
   "display_name": "Python 3",
   "language": "python",
   "name": "python3"
  },
  "language_info": {
   "codemirror_mode": {
    "name": "ipython",
    "version": 3
   },
   "file_extension": ".py",
   "mimetype": "text/x-python",
   "name": "python",
   "nbconvert_exporter": "python",
   "pygments_lexer": "ipython3",
   "version": "3.9.1"
  }
 },
 "nbformat": 4,
 "nbformat_minor": 5
}
