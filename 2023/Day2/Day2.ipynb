{
 "cells": [
  {
   "cell_type": "markdown",
   "id": "encouraging-attention",
   "metadata": {},
   "source": [
    "## Part1"
   ]
  },
  {
   "cell_type": "code",
   "execution_count": null,
   "id": "streaming-franklin",
   "metadata": {},
   "outputs": [],
   "source": [
    "import re\n",
    "\n",
    "bags = {\n",
    "    'red': 12,\n",
    "    'green': 13,\n",
    "    'blue': 14\n",
    "}\n",
    "\n",
    "with open('input') as file:\n",
    "    lines = file.read().strip().split('\\n')\n",
    "    res = 0\n",
    "    for index, line in enumerate(lines):\n",
    "        line = line.replace(' ', '')\n",
    "        rounds = line.split(':')[1].split(';')\n",
    "        isPossible = True\n",
    "        for round in rounds:\n",
    "            if(not isPossible):\n",
    "                break;\n",
    "            draws = round.split(',')\n",
    "            for d in draws:\n",
    "                if(not isPossible):\n",
    "                    break;\n",
    "                match = re.match(r'(\\d+)([a-zA-Z]+)', d)\n",
    "                number = match.group(1)\n",
    "                color = match.group(2)\n",
    "                if(bags[color] < int(number)):\n",
    "                    isPossible = False\n",
    "        if(isPossible):\n",
    "            res += (index+1)\n",
    "    print(res)"
   ]
  },
  {
   "cell_type": "markdown",
   "id": "parliamentary-primary",
   "metadata": {},
   "source": [
    "## Part2"
   ]
  },
  {
   "cell_type": "code",
   "execution_count": null,
   "id": "proper-tamil",
   "metadata": {},
   "outputs": [],
   "source": [
    "import math"
   ]
  },
  {
   "cell_type": "code",
   "execution_count": null,
   "id": "hairy-carter",
   "metadata": {
    "scrolled": true
   },
   "outputs": [],
   "source": [
    "with open('input') as file:\n",
    "    lines = file.read().strip().split('\\n')\n",
    "    res = 0\n",
    "    for index, line in enumerate(lines):\n",
    "        line = line.replace(' ', '')\n",
    "        rounds = line.split(':')[1].split(';')\n",
    "        bags = {'red': 0, 'green': 0, 'blue': 0 }\n",
    "        for round in rounds:\n",
    "            draws = round.split(',')\n",
    "            for d in draws:\n",
    "                match = re.match(r'(\\d+)(\\w+)', d)\n",
    "                number = match.group(1)\n",
    "                color = match.group(2)\n",
    "                bags[color] = max(bags[color], int(number))\n",
    "        res += math.prod(bags.values())\n",
    "    print(res)\n"
   ]
  }
 ],
 "metadata": {
  "kernelspec": {
   "display_name": "Python 3",
   "language": "python",
   "name": "python3"
  },
  "language_info": {
   "codemirror_mode": {
    "name": "ipython",
    "version": 3
   },
   "file_extension": ".py",
   "mimetype": "text/x-python",
   "name": "python",
   "nbconvert_exporter": "python",
   "pygments_lexer": "ipython3",
   "version": "3.9.1"
  }
 },
 "nbformat": 4,
 "nbformat_minor": 5
}
