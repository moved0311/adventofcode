{
 "cells": [
  {
   "cell_type": "markdown",
   "id": "canadian-performance",
   "metadata": {},
   "source": [
    "## Part1"
   ]
  },
  {
   "cell_type": "code",
   "execution_count": null,
   "id": "valued-strength",
   "metadata": {},
   "outputs": [],
   "source": [
    "with open('input') as file:\n",
    "    lines = [list(line) for line in file.read().strip().split('\\n')]\n",
    "    \n",
    "numbers = [] # [[row, col, number], ...]\n",
    "\n",
    "MAX_ROW = len(lines) - 1\n",
    "MAX_COL = len(lines[0]) - 1 \n",
    "\n",
    "for row, line in enumerate(lines):\n",
    "    number = ''\n",
    "    for col, char in enumerate(line):\n",
    "        if(char.isdigit()):\n",
    "            number += char\n",
    "            if(col == MAX_COL):\n",
    "                numbers.append([row, col-len(number)+1, number])\n",
    "        else:\n",
    "            if(number):\n",
    "                numbers.append([row, col-len(number), number])\n",
    "                number = ''"
   ]
  },
  {
   "cell_type": "code",
   "execution_count": null,
   "id": "covered-republican",
   "metadata": {},
   "outputs": [],
   "source": [
    "def isPartNumber(row, col, number):\n",
    "    if(col > 0):\n",
    "        if(lines[row][col-1] != '.'): # left\n",
    "            return True\n",
    "        if(row > 0 and lines[row-1][col-1] != '.'): # left-top\n",
    "            return True\n",
    "        if(row < MAX_ROW and lines[row+1][col-1] != '.'): # left-bottom\n",
    "            return True\n",
    "    \n",
    "    length = len(number)\n",
    "    if(col+length-1 < MAX_COL):\n",
    "        if(lines[row][col+length] != '.'): # right\n",
    "            return True\n",
    "        if(row > 0 and lines[row-1][col+length] != '.'): # right-top\n",
    "            return True\n",
    "        if(row < MAX_ROW and lines[row+1][col+length] != '.'): # right-bottom\n",
    "            return True\n",
    "    \n",
    "    for i in range(len(number)):\n",
    "        # top\n",
    "        if(row > 0 and lines[row-1][col+i] != '.'):\n",
    "            return True\n",
    "        # bottom\n",
    "        if(row < MAX_ROW and lines[row+1][col+i] != '.'):\n",
    "            return True       \n",
    "    return False"
   ]
  },
  {
   "cell_type": "code",
   "execution_count": null,
   "id": "royal-connectivity",
   "metadata": {},
   "outputs": [],
   "source": [
    "res = 0\n",
    "\n",
    "for [row, col, number] in numbers:\n",
    "    if(isPartNumber(row, col, number)):\n",
    "        res += int(number)\n",
    "        \n",
    "res"
   ]
  },
  {
   "cell_type": "markdown",
   "id": "joined-stadium",
   "metadata": {},
   "source": [
    "## Part2"
   ]
  },
  {
   "cell_type": "code",
   "execution_count": null,
   "id": "eastern-trinity",
   "metadata": {},
   "outputs": [],
   "source": [
    "import math\n",
    "with open('input') as file:\n",
    "    lines = [list(line) for line in file.read().strip().split('\\n')]\n",
    "    \n",
    "MAX_ROW = len(lines) - 1\n",
    "MAX_COL = len(lines[0]) - 1 "
   ]
  },
  {
   "cell_type": "code",
   "execution_count": null,
   "id": "native-wildlife",
   "metadata": {},
   "outputs": [],
   "source": [
    "starsPos = []\n",
    "for row, line in enumerate(lines):\n",
    "    for col, char in enumerate(line):\n",
    "        if(char == '*'):\n",
    "            starsPos.append([row, col])\n",
    "            \n",
    "def goLeftFindAllDigit(row, col):\n",
    "    i = 1\n",
    "    num = ''\n",
    "    while(col-i >= 0 and lines[row][col-i].isdigit()):\n",
    "        num = lines[row][col-i] + num\n",
    "        i += 1\n",
    "    return num\n",
    "\n",
    "def goRightFindAllDigit(row, col):\n",
    "    i = 1\n",
    "    num = ''\n",
    "    while(col+i <= MAX_COL and lines[row][col+i].isdigit()):\n",
    "        num = num + lines[row][col+i]\n",
    "        i += 1\n",
    "    return num\n",
    "\n",
    "def gearRatio(row, col):\n",
    "    nums = []\n",
    "    if(col > 0 and lines[row][col-1].isdigit()): # left\n",
    "        num = goLeftFindAllDigit(row, col-1) + lines[row][col-1]\n",
    "        nums.append(int(num))\n",
    "    if(col < MAX_COL and lines[row][col+1].isdigit()): # right\n",
    "        num = lines[row][col+1] + goRightFindAllDigit(row, col+1)\n",
    "        nums.append(int(num))\n",
    "    if(row > 0 and lines[row-1][col].isdigit()): # top-center\n",
    "        num = goLeftFindAllDigit(row-1, col) + lines[row-1][col] + goRightFindAllDigit(row-1, col)\n",
    "        nums.append(int(num))\n",
    "    else:\n",
    "        if(row > 0 and col > 0 and lines[row-1][col-1].isdigit()): # top-left\n",
    "            num = goLeftFindAllDigit(row-1, col-1) + lines[row-1][col-1]\n",
    "            nums.append(int(num))\n",
    "        if(row > 0 and col <= MAX_COL and lines[row-1][col+1].isdigit()): # top-right\n",
    "            num = lines[row-1][col+1] + goRightFindAllDigit(row-1, col+1)\n",
    "            nums.append(int(num))\n",
    "        \n",
    "    if(row < MAX_ROW and lines[row+1][col].isdigit()): # bottom-center\n",
    "        num = goLeftFindAllDigit(row+1, col) + lines[row+1][col] + goRightFindAllDigit(row+1, col)\n",
    "        nums.append(int(num))\n",
    "    else:\n",
    "        if(row < MAX_ROW and col > 0 and lines[row+1][col-1].isdigit()): # bottom-left\n",
    "            num = goLeftFindAllDigit(row+1, col-1) + lines[row+1][col-1]\n",
    "            nums.append(int(num))\n",
    "        if(row < MAX_ROW and col <= MAX_COL and lines[row+1][col+1].isdigit()): # bottom-right\n",
    "            num = lines[row+1][col+1] + goRightFindAllDigit(row+1, col+1)\n",
    "            nums.append(int(num))\n",
    "\n",
    "    if(len(nums) == 2):\n",
    "        return math.prod(nums)\n",
    "\n",
    "    return 0\n",
    "    \n",
    "\n",
    "res = 0\n",
    "for [row, col] in starsPos:\n",
    "    res += gearRatio(row, col)\n",
    "print(res)"
   ]
  }
 ],
 "metadata": {
  "kernelspec": {
   "display_name": "Python 3",
   "language": "python",
   "name": "python3"
  },
  "language_info": {
   "codemirror_mode": {
    "name": "ipython",
    "version": 3
   },
   "file_extension": ".py",
   "mimetype": "text/x-python",
   "name": "python",
   "nbconvert_exporter": "python",
   "pygments_lexer": "ipython3",
   "version": "3.9.1"
  }
 },
 "nbformat": 4,
 "nbformat_minor": 5
}
