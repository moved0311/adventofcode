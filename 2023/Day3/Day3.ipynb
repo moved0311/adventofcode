{
 "cells": [
  {
   "cell_type": "code",
   "execution_count": null,
   "id": "valued-strength",
   "metadata": {},
   "outputs": [],
   "source": [
    "with open('test') as file:\n",
    "    lines = [list(line) for line in file.read().strip().split('\\n')]\n",
    "    \n",
    "numbers = [] # [[row, col, number], ...]\n",
    "\n",
    "for row, line in enumerate(lines):\n",
    "    number = ''\n",
    "    for col, char in enumerate(line):\n",
    "        if(char.isdigit()):\n",
    "            number += char\n",
    "            if(col == MAX_COL):\n",
    "                numbers.append([row, col-len(number), number])\n",
    "        else:\n",
    "            if(number):\n",
    "                numbers.append([row, col-len(number), number])\n",
    "                number = ''"
   ]
  },
  {
   "cell_type": "code",
   "execution_count": null,
   "id": "covered-republican",
   "metadata": {},
   "outputs": [],
   "source": [
    "MAX_ROW = len(lines) - 1\n",
    "MAX_COL = len(lines[0]) - 1\n",
    "\n",
    "print(\"MAX_ROW:\",MAX_ROW)\n",
    "print(\"MAX_COL:\",MAX_COL)\n",
    "\n",
    "def isPartNumber(row, col, number):\n",
    "    if(col > 0):\n",
    "        if(lines[row][col-1] != '.'): # left\n",
    "            return True\n",
    "        if(row > 0 and lines[row-1][col-1] != '.'): # left-top\n",
    "            return True\n",
    "        if(row < MAX_ROW and lines[row+1][col-1] != '.'): # left-bottom\n",
    "            return True\n",
    "    \n",
    "    length = len(number)\n",
    "    if(col+length < MAX_COL):\n",
    "        if(lines[row][col+length] != '.'): # right\n",
    "            return True\n",
    "        if(row > 0 and lines[row-1][col+length] != '.'): # right-top\n",
    "            return True\n",
    "        if(row < MAX_ROW and lines[row+1][col+length] != '.'): # right-bottom\n",
    "            return True\n",
    "    \n",
    "    for i in range(len(number)):\n",
    "        # top\n",
    "        if(row > 0 and lines[row-1][col+i] != '.'):\n",
    "            return True\n",
    "        # bottom\n",
    "        if(row < MAX_ROW and lines[row+1][col+i] != '.'):\n",
    "            return True       \n",
    "    return False\n",
    "\n",
    "# isPartNumber(0,0,'467')"
   ]
  },
  {
   "cell_type": "code",
   "execution_count": null,
   "id": "royal-connectivity",
   "metadata": {},
   "outputs": [],
   "source": [
    "res = 0\n",
    "\n",
    "for [row, col, number] in numbers:\n",
    "#     print(isPartNumber(row, col, number), row, col, number)\n",
    "    if(isPartNumber(row, col, number)):\n",
    "        res += int(number)\n",
    "        \n",
    "res"
   ]
  },
  {
   "cell_type": "code",
   "execution_count": null,
   "id": "private-consultation",
   "metadata": {},
   "outputs": [],
   "source": [
    "# 546563"
   ]
  },
  {
   "cell_type": "code",
   "execution_count": null,
   "id": "eastern-trinity",
   "metadata": {},
   "outputs": [],
   "source": []
  }
 ],
 "metadata": {
  "kernelspec": {
   "display_name": "Python 3",
   "language": "python",
   "name": "python3"
  },
  "language_info": {
   "codemirror_mode": {
    "name": "ipython",
    "version": 3
   },
   "file_extension": ".py",
   "mimetype": "text/x-python",
   "name": "python",
   "nbconvert_exporter": "python",
   "pygments_lexer": "ipython3",
   "version": "3.9.1"
  }
 },
 "nbformat": 4,
 "nbformat_minor": 5
}
